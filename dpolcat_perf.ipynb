{
 "cells": [
  {
   "cell_type": "markdown",
   "id": "39824ec7-d5c3-49cb-a962-ea4cd6cf4ae1",
   "metadata": {
    "tags": []
   },
   "source": [
    "*Sen2+1Cube*: Luke McQuade, June 2023 \n",
    "\n",
    "# *dpolcat* Performance Evaluation\n",
    "\n",
    "As *dpolcat* may be used in large-scale analyses, it is useful to know its performance characteristics. So, let's measure the time and memory to process an entire Sentinel-1 scene. Our selected scene is from an area around Almaty, Kazakhstan - S1A_IW_GRDH_1SDV_20230730T124317_20230730T124342_049653_05F87E_rtc."
   ]
  },
  {
   "cell_type": "markdown",
   "id": "a8b7829c-d63f-4670-996f-c87e183f671a",
   "metadata": {},
   "source": [
    "## Setup"
   ]
  },
  {
   "cell_type": "code",
   "execution_count": 1,
   "id": "c3a3156e-a646-412e-9768-580f0cbf1488",
   "metadata": {
    "tags": []
   },
   "outputs": [
    {
     "name": "stdout",
     "output_type": "stream",
     "text": [
      "Requirement already satisfied: memory-profiler in /srv/conda/envs/notebook/lib/python3.11/site-packages (0.61.0)\n",
      "Requirement already satisfied: psutil in /srv/conda/envs/notebook/lib/python3.11/site-packages (from memory-profiler) (5.9.5)\n",
      "Note: you may need to restart the kernel to use updated packages.\n"
     ]
    }
   ],
   "source": [
    "%pip install memory-profiler\n",
    "%load_ext memory_profiler"
   ]
  },
  {
   "cell_type": "code",
   "execution_count": 2,
   "id": "f1d8247e-c41f-4910-b853-c7ff991bb9dc",
   "metadata": {
    "tags": []
   },
   "outputs": [],
   "source": [
    "import pystac_client\n",
    "import planetary_computer\n",
    "import stackstac"
   ]
  },
  {
   "cell_type": "markdown",
   "id": "4ebec000-5d07-43c6-b22e-c20535c54f5c",
   "metadata": {},
   "source": [
    "Automatically reload the module when changes are made."
   ]
  },
  {
   "cell_type": "code",
   "execution_count": 3,
   "id": "a7aaf850-2794-4a72-8c82-690b5b1db685",
   "metadata": {
    "tags": []
   },
   "outputs": [],
   "source": [
    "%load_ext autoreload\n",
    "%autoreload 2"
   ]
  },
  {
   "cell_type": "code",
   "execution_count": 4,
   "id": "2a3df708-c0c5-4068-8670-fa9023907f65",
   "metadata": {
    "tags": []
   },
   "outputs": [],
   "source": [
    "import dpolcat as dp"
   ]
  },
  {
   "cell_type": "markdown",
   "id": "6b19b3eb-df50-4f7e-bb0f-2bf286bd19dc",
   "metadata": {},
   "source": [
    "## Helpers"
   ]
  },
  {
   "cell_type": "code",
   "execution_count": 5,
   "id": "aaf1f477-645f-4e0f-91cd-71f5c6b80809",
   "metadata": {
    "tags": []
   },
   "outputs": [],
   "source": [
    "def get_item_by_id(item_collection, id: str):\n",
    "    return [item for item in item_collection if item.id == id][0]"
   ]
  },
  {
   "cell_type": "markdown",
   "id": "5ae6bd60-18bb-477a-93c1-4a909a8c9d58",
   "metadata": {},
   "source": [
    "## Evaluation"
   ]
  },
  {
   "cell_type": "code",
   "execution_count": 6,
   "id": "61b211f7-0c54-470f-ba38-9fe22fc19f81",
   "metadata": {},
   "outputs": [
    {
     "name": "stdout",
     "output_type": "stream",
     "text": [
      "Found 3 items\n",
      "Selected S1A_IW_GRDH_1SDV_20230730T124317_20230730T124342_049653_05F87E_rtc\n"
     ]
    },
    {
     "name": "stderr",
     "output_type": "stream",
     "text": [
      "/srv/conda/envs/notebook/lib/python3.11/site-packages/stackstac/prepare.py:363: UserWarning: The argument 'infer_datetime_format' is deprecated and will be removed in a future version. A strict version of it is now the default, see https://pandas.pydata.org/pdeps/0004-consistent-to-datetime-parsing.html. You can safely remove this argument.\n",
      "  times = pd.to_datetime(\n"
     ]
    }
   ],
   "source": [
    "search_bbox = [76.733460,43.085164,77.112488,43.385241]\n",
    "\n",
    "catalog = pystac_client.Client.open(\n",
    "    \"https://planetarycomputer.microsoft.com/api/stac/v1\",\n",
    "    modifier=planetary_computer.sign_inplace,\n",
    ")\n",
    "\n",
    "search = catalog.search(\n",
    "    collections=[\"sentinel-1-rtc\"], bbox=search_bbox, datetime=\"2023-07-26/2023-08-07\"\n",
    ")\n",
    "items = search.item_collection()\n",
    "print(f\"Found {len(items)} items\")\n",
    "\n",
    "test_item = get_item_by_id(items, \"S1A_IW_GRDH_1SDV_20230730T124317_20230730T124342_049653_05F87E_rtc\")\n",
    "print(f\"Selected {test_item.id}\")\n",
    "\n",
    "ds = stackstac.stack([test_item])"
   ]
  },
  {
   "cell_type": "markdown",
   "id": "95284103-6fe0-4c01-a3d0-725473ec22a4",
   "metadata": {
    "tags": []
   },
   "source": [
    "The computation environment may not have enough memory to process an entire scene at once, so use a fractional subset. As the computational cost is approximately linear, we should be able to estimate the total resource cost by scaling the results accordingly.\n",
    "\n",
    "To determine the cost for each step in the process, we perform the steps cumulatively, then use subtraction, working backwards from the total costs."
   ]
  },
  {
   "cell_type": "code",
   "execution_count": 7,
   "id": "a8762d9d-bb2f-430f-bf22-edee2e20d8e2",
   "metadata": {
    "tags": []
   },
   "outputs": [],
   "source": [
    "# height_frac = 1 / 8\n",
    "height_frac = 1 / 4\n",
    "tile_height = int(ds.shape[2] * height_frac)\n",
    "vv_lin_l = ds.sel(band=\"vv\")[0][0:tile_height]\n",
    "vh_lin_l = ds.sel(band=\"vh\")[0][0:tile_height]"
   ]
  },
  {
   "cell_type": "markdown",
   "id": "69aad1c1-6000-4c55-beed-9a5ebfde3aa7",
   "metadata": {},
   "source": [
    "### Loading source data into memory"
   ]
  },
  {
   "cell_type": "code",
   "execution_count": 8,
   "id": "88473418-c7b9-4417-b660-9775d71ee971",
   "metadata": {
    "tags": []
   },
   "outputs": [
    {
     "name": "stdout",
     "output_type": "stream",
     "text": [
      "7.23 s ± 90.1 ms per loop (mean ± std. dev. of 3 runs, 1 loop each)\n"
     ]
    }
   ],
   "source": [
    "%%timeit -r 3\n",
    "vv_lin = vv_lin_l.compute()\n",
    "vh_lin = vh_lin_l.compute()"
   ]
  },
  {
   "cell_type": "code",
   "execution_count": 9,
   "id": "22925071-f8c5-4793-b969-c15bf560524a",
   "metadata": {
    "tags": []
   },
   "outputs": [
    {
     "name": "stdout",
     "output_type": "stream",
     "text": [
      "peak memory: 4601.82 MiB, increment: 2527.32 MiB\n"
     ]
    }
   ],
   "source": [
    "%%memit\n",
    "vv_lin = vv_lin_l.compute()\n",
    "vh_lin = vh_lin_l.compute()"
   ]
  },
  {
   "cell_type": "markdown",
   "id": "1145cfad-4418-4d7f-aafd-904318bc039a",
   "metadata": {},
   "source": [
    "### Loading and scaling"
   ]
  },
  {
   "cell_type": "code",
   "execution_count": 10,
   "id": "b0bed2a5-c90f-4e6d-85b4-d4ad3724722c",
   "metadata": {
    "tags": []
   },
   "outputs": [
    {
     "name": "stdout",
     "output_type": "stream",
     "text": [
      "10.4 s ± 25.3 ms per loop (mean ± std. dev. of 3 runs, 1 loop each)\n"
     ]
    }
   ],
   "source": [
    "%%timeit -r 3\n",
    "vv_sn = dp.scale_nice(vv_lin_l.compute())\n",
    "vh_sn = dp.scale_nice(vh_lin_l.compute())"
   ]
  },
  {
   "cell_type": "code",
   "execution_count": 11,
   "id": "4e205ceb-e256-4ef8-94d8-1c5e89cf585d",
   "metadata": {
    "tags": []
   },
   "outputs": [
    {
     "name": "stdout",
     "output_type": "stream",
     "text": [
      "peak memory: 9504.31 MiB, increment: 4769.12 MiB\n"
     ]
    }
   ],
   "source": [
    "%%memit\n",
    "vv_sn = dp.scale_nice(vv_lin_l.compute())\n",
    "vh_sn = dp.scale_nice(vh_lin_l.compute())"
   ]
  },
  {
   "cell_type": "markdown",
   "id": "455c3311-41c1-4971-91d9-7b99589e3807",
   "metadata": {},
   "source": [
    "### Loading, scaling and categorization"
   ]
  },
  {
   "cell_type": "code",
   "execution_count": null,
   "id": "0248c1cf-9bdd-4d12-a9ac-7e1fc6e5ffb3",
   "metadata": {
    "tags": []
   },
   "outputs": [],
   "source": [
    "%%timeit -r 3\n",
    "cat_result = dp.categorize_xa(\n",
    "    dp.scale_nice(\n",
    "        vv_lin_l.compute()),\n",
    "    dp.scale_nice(\n",
    "        vh_lin_l.compute()))"
   ]
  },
  {
   "cell_type": "code",
   "execution_count": null,
   "id": "0e84b942-ccee-4a44-8019-78568fa21704",
   "metadata": {
    "tags": []
   },
   "outputs": [],
   "source": [
    "%%memit\n",
    "cat_result = dp.categorize_xa(\n",
    "    dp.scale_nice(\n",
    "        vv_lin_l.compute()),\n",
    "    dp.scale_nice(\n",
    "        vh_lin_l.compute()))"
   ]
  },
  {
   "cell_type": "markdown",
   "id": "1dd7bbb7-211c-4248-9d03-946bd8ed4bd6",
   "metadata": {},
   "source": [
    "### Results"
   ]
  },
  {
   "cell_type": "markdown",
   "id": "316827df-7cf9-4860-8cd7-e7fa0ea522e1",
   "metadata": {},
   "source": [
    "#### Timing\n",
    "Based on a sample run of the above."
   ]
  },
  {
   "cell_type": "code",
   "execution_count": null,
   "id": "5daae7e4-8663-433c-82c6-bc00330ee6cc",
   "metadata": {
    "tags": []
   },
   "outputs": [],
   "source": [
    "# recorded\n",
    "t_steps_1_2_3 = 31.5\n",
    "t_steps_1_2 = 4.95\n",
    "t_steps_1 = 3.27\n",
    "\n",
    "# calculated\n",
    "t_steps_2 = t_steps_1_2 - t_steps_1\n",
    "t_steps_3 = t_steps_1_2_3 - t_steps_1_2\n",
    "\n",
    "print(f\"Tile size: {vv_lin_l.sizes['x']}*{vv_lin_l.sizes['y']} | Scene size: {ds.sizes['x']}*{ds.sizes['y']}\")\n",
    "print(f\"Step 1 - Reading:        {t_steps_1} (tile) | {t_steps_1 / height_frac} (est. scene)\")\n",
    "print(f\"Step 2 - Scaling:        {t_steps_2} (tile) | {t_steps_2 / height_frac} (est. scene)\")\n",
    "print(f\"Step 3 - Categorization: {t_steps_3} (tile) | {t_steps_3 / height_frac} (est. scene)\")\n",
    "print(f\"Total:                   {t_steps_1_2_3} (tile) | {t_steps_1_2_3 / height_frac} (est. scene)\")\n"
   ]
  },
  {
   "cell_type": "markdown",
   "id": "2b4f7622-4b59-42a2-a200-f9851b8902d8",
   "metadata": {},
   "source": [
    "In summary, the estimated scene timings are:\n",
    "\n",
    "| Step | Time |\n",
    "| --- | --- |\n",
    "| 1. Reading | 26s |\n",
    "| 2. Scaling | 13s |\n",
    "| 3. Categorization | 3m 32s |\n",
    "| Total | 4m 12s |\n"
   ]
  },
  {
   "cell_type": "markdown",
   "id": "837b8adf-584a-4514-952b-015d8bddf851",
   "metadata": {},
   "source": [
    "#### Memory\n",
    "\n",
    "Practically, overall peak memory usage is the most important metric here, which was previously measured to be approximately 13GB for a 1/8-height tile and 21GB for a 1/4-height tile. This is not strictly linear, but extrapolating based on the difference between those, it would suggest we need approximately 68GB of memory to process an entire scene."
   ]
  }
 ],
 "metadata": {
  "kernelspec": {
   "display_name": "Python 3 (ipykernel)",
   "language": "python",
   "name": "python3"
  },
  "language_info": {
   "codemirror_mode": {
    "name": "ipython",
    "version": 3
   },
   "file_extension": ".py",
   "mimetype": "text/x-python",
   "name": "python",
   "nbconvert_exporter": "python",
   "pygments_lexer": "ipython3",
   "version": "3.11.4"
  }
 },
 "nbformat": 4,
 "nbformat_minor": 5
}
